{
 "cells": [
  {
   "cell_type": "code",
   "execution_count": 1,
   "metadata": {},
   "outputs": [],
   "source": [
    "import os\n",
    "\n",
    "from whoosh import highlight\n",
    "from whoosh.index import create_in\n",
    "from whoosh.fields import Schema, ID, TEXT\n",
    "from whoosh.lang.morph_en import variations\n",
    "from whoosh.qparser import QueryParser\n",
    "from whoosh.query import *\n",
    "import re"
   ]
  },
  {
   "cell_type": "code",
   "execution_count": 6,
   "metadata": {},
   "outputs": [],
   "source": [
    "def morphology_tool():\n",
    "    def build_index():\n",
    "        schema = Schema(title=TEXT(stored=True), content=TEXT(stored=True),\n",
    "                   path=ID(stored=True))\n",
    "\n",
    "        if not os.path.exists('index'):\n",
    "            os.mkdir('index')\n",
    "        my_index = create_in('index', schema)\n",
    "\n",
    "        OS_SEP = os.sep\n",
    "\n",
    "        writer = my_index.writer()\n",
    "\n",
    "        for document in os.listdir('corpus_of_british_fiction'):\n",
    "            if document.endswith('.txt'):\n",
    "                with open('corpus_of_british_fiction' + OS_SEP + document, 'r',encoding='UTF-8') as text:\n",
    "                    writer.add_document(title=document, content=str(text.read()),\n",
    "                                       path=document)\n",
    "        writer.commit()\n",
    "    \n",
    "        user_query = input('which word are you looking for?: ')\n",
    "        myquery = QueryParser('content', my_index.schema, termclass=Variations).parse(str(user_query))\n",
    "    \n",
    "        with my_index.searcher() as searcher:\n",
    "            results = searcher.search(myquery, limit=None)\n",
    "            results.fragmenter = highlight.ContextFragmenter(charlimit=None)\n",
    "            return_results = []\n",
    "            for index, hit in enumerate(results):\n",
    "                return_results.append(hit.highlights('content'.strip()))\n",
    "        return return_results\n",
    "    \n",
    "    def clean_sentence(sentence):\n",
    "        whitespace = ['\\n', '\\t', '  ']\n",
    "        multiple_spaces = ['  ', '   ', '    ', '     ']\n",
    "        markup_tags = [r'\\<b.*?>', r'\\<\\/b>']\n",
    "        for char in whitespace + markup_tags:\n",
    "            if char in markup_tags:\n",
    "                sentence = re.sub(char, '', sentence)\n",
    "            else:\n",
    "                sentence = re.sub(char, ' ', sentence)\n",
    "        for char in multiple_spaces:\n",
    "            sentence = re.sub(char, ' ', sentence)\n",
    "        return sentence\n",
    "    \n",
    "    def return_result(list_of_results):\n",
    "        for sentence in return_results:\n",
    "            print('\\n', clean_sentence(sentence))\n",
    "        return\n",
    "    \n",
    "    return_results = build_index()\n",
    "    return_result(return_results)\n",
    "    return"
   ]
  },
  {
   "cell_type": "code",
   "execution_count": 7,
   "metadata": {},
   "outputs": [
    {
     "name": "stdout",
     "output_type": "stream",
     "text": [
      "which word are you looking for?: think\n",
      "\n",
      " papa and mamma would think so too, if they thought much about it. However...if I can always think on these things, I think I might well love God...and an habitual thinker; and when he smiled\n",
      "\n",
      " cushioned seat, and thought, and thought, until the tears...me to say _I_ think otherwise. If I thought myself doomed to...and then, dreadful thought! she would think me cooled and changed\n"
     ]
    }
   ],
   "source": [
    "morphology_tool()"
   ]
  },
  {
   "cell_type": "code",
   "execution_count": null,
   "metadata": {},
   "outputs": [],
   "source": []
  }
 ],
 "metadata": {
  "kernelspec": {
   "display_name": "Python 3",
   "language": "python",
   "name": "python3"
  },
  "language_info": {
   "codemirror_mode": {
    "name": "ipython",
    "version": 3
   },
   "file_extension": ".py",
   "mimetype": "text/x-python",
   "name": "python",
   "nbconvert_exporter": "python",
   "pygments_lexer": "ipython3",
   "version": "3.7.3"
  }
 },
 "nbformat": 4,
 "nbformat_minor": 2
}
