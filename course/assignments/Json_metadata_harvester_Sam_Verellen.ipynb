{
 "cells": [
  {
   "cell_type": "code",
   "execution_count": 6,
   "metadata": {},
   "outputs": [
    {
     "name": "stdout",
     "output_type": "stream",
     "text": [
      "What would you like to search for?Erasmus\n",
      "Results found for Erasmus: \n",
      "{'id': 'http://data.europeana.eu/agent/base/198', 'type': 'Agent', 'depiction': 'http://commons.wikimedia.org/wiki/Special:FilePath/Holbein-erasmus.jpg', 'prefLabel': {'en': 'Desiderius Erasmus'}, 'hiddenLabel': {'en': ['Desiderius Erasmus', 'Erasmus, Desiderius']}, 'dateOfBirth': '1466-10-27', 'dateOfDeath': '1536-07-12'}\n",
      "{'id': 'http://data.europeana.eu/agent/base/77639', 'type': 'Agent', 'depiction': 'http://commons.wikimedia.org/wiki/Special:FilePath/Peter%20Erasmus%20M%C3%BCller.JPG', 'prefLabel': {'en': 'Peter Erasmus Müller'}, 'hiddenLabel': {'en': ['Peter Erasmus Müller', 'Müller, Peter Erasmus']}, 'dateOfBirth': '1776-05-29', 'dateOfDeath': '1834-09-04'}\n",
      "{'id': 'http://data.europeana.eu/agent/base/154250', 'type': 'Agent', 'prefLabel': {'en': 'Erasmus Grasser'}, 'hiddenLabel': {'en': ['Erasmus Grasser', 'Grasser, Erasmus']}, 'dateOfBirth': '1450', 'dateOfDeath': '1510'}\n",
      "{'id': 'http://data.europeana.eu/agent/base/12159', 'type': 'Agent', 'depiction': 'http://commons.wikimedia.org/wiki/Special:FilePath/Erasmus%20Quellinus%20-%20Het%20Gulden%20Cabinet.png', 'prefLabel': {'en': 'Erasmus Quellinus II'}, 'hiddenLabel': {'en': ['Erasmus Quellinus II', 'II, Erasmus Quellinus']}, 'dateOfBirth': '1607', 'dateOfDeath': '1678'}\n",
      "{'id': 'http://data.europeana.eu/agent/base/16271', 'type': 'Agent', 'prefLabel': {'en': 'Jan-Erasmus Quellinus'}, 'hiddenLabel': {'en': ['Jan-Erasmus Quellinus', 'Quellinus, Jan-Erasmus']}, 'dateOfBirth': '1634', 'dateOfDeath': '1715-03-11'}\n",
      "{'id': 'http://data.europeana.eu/agent/base/88872', 'type': 'Agent', 'depiction': 'http://commons.wikimedia.org/wiki/Special:FilePath/Efrancisci.jpg', 'prefLabel': {'en': 'Erasmus Finx'}, 'hiddenLabel': {'en': ['Erasmus Finx', 'Finx, Erasmus']}, 'dateOfBirth': '1627-11-16', 'dateOfDeath': '1694-12-20'}\n",
      "{'id': 'http://data.europeana.eu/agent/base/58004', 'type': 'Agent', 'depiction': 'http://commons.wikimedia.org/wiki/Special:FilePath/PE%20Lange-M%C3%BCller.gif', 'prefLabel': {'en': 'Peter Lange-Müller', 'sv': 'Peter Erasmus Lange-Müller'}, 'hiddenLabel': {'en': ['Peter Lange-Müller', 'Lange-Müller, Peter'], 'sv': ['Peter Erasmus Lange-Müller', 'Lange-Müller, Peter Erasmus']}, 'dateOfBirth': '1850-12-01', 'dateOfDeath': '1926-02-26'}\n",
      "{'id': 'http://data.europeana.eu/agent/base/39278', 'type': 'Agent', 'depiction': 'http://commons.wikimedia.org/wiki/Special:FilePath/Erasmus%20Widmann.jpg', 'prefLabel': {'en': 'Erasmus Widmann'}, 'hiddenLabel': {'en': ['Erasmus Widmann', 'Widmann, Erasmus']}, 'dateOfBirth': '1572', 'dateOfDeath': '1634'}\n",
      "{'id': 'http://data.europeana.eu/agent/base/7171', 'type': 'Agent', 'depiction': 'http://commons.wikimedia.org/wiki/Special:FilePath/Arolsen%20Klebeband%2003%20277%203.jpg', 'prefLabel': {'en': 'Johann Erasmus Kindermann'}, 'hiddenLabel': {'en': ['Johann Erasmus Kindermann', 'Kindermann, Johann Erasmus']}, 'dateOfBirth': '1616-03-29', 'dateOfDeath': '1655-04-14'}\n",
      "{'id': 'http://data.europeana.eu/agent/base/20452', 'type': 'Agent', 'prefLabel': {'en': 'Erasmus Augustus Worthington'}, 'hiddenLabel': {'en': ['Erasmus Augustus Worthington', 'Worthington, Erasmus Augustus']}, 'dateOfBirth': '1791-12-21', 'dateOfDeath': '1880'}\n"
     ]
    }
   ],
   "source": [
    "import urllib.request\n",
    "import urllib.parse\n",
    "from json import loads\n",
    "\n",
    "#ask user for query, remove extra whitespace, ensure url-safe characters:\n",
    "user_query = urllib.parse.quote(str(input('What would you like to search for?')).strip())\n",
    "#build url:\n",
    "answer = 'https://www.europeana.eu/api/entities/suggest?wskey=apidemo&text='+ user_query\n",
    "#get json file from url:\n",
    "with urllib.request.urlopen(answer) as response:\n",
    "    answer_json = response.read()\n",
    "#turn json file into pythin dict:\n",
    "first_answer = loads(answer_json)\n",
    "#print message to user:\n",
    "print('Results found for ' + user_query + ': ')\n",
    "#try to provide the answer by iterating over the entities found in the 'items' dictionary and printing them:\n",
    "try:\n",
    "    for item in first_answer['items']: print(item) \n",
    "#except if no items are found:\n",
    "except KeyError: print('Query not found')"
   ]
  }
 ],
 "metadata": {
  "kernelspec": {
   "display_name": "Python 3",
   "language": "python",
   "name": "python3"
  },
  "language_info": {
   "codemirror_mode": {
    "name": "ipython",
    "version": 3
   },
   "file_extension": ".py",
   "mimetype": "text/x-python",
   "name": "python",
   "nbconvert_exporter": "python",
   "pygments_lexer": "ipython3",
   "version": "3.7.3"
  }
 },
 "nbformat": 4,
 "nbformat_minor": 2
}
